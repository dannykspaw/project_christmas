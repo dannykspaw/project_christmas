{
 "cells": [
  {
   "cell_type": "markdown",
   "metadata": {},
   "source": [
    "# Ornament Analysis"
   ]
  },
  {
   "cell_type": "markdown",
   "metadata": {},
   "source": [
    "## Welcome to the end result of possibly the most over-architected pet project on the planet...\n",
    "\n",
    "As the Christmas season sets in and holiday fever abounds, the semi-taboo culture of ornament collection begins to reach the climax of its annual frenzy. We stumbled upon this idea when a friend mentioned the gathering Hallmark \"Keepsake Ornaments\" have generated since their inception. After a few days of high-level investigation of 3 ornament resellers (ornamentshop.com, hookedonhallmark.com, and hallmarkornmanets.com), we began to create hypotheses around the sell-side dynamics of the market. Below are the hypotheses we will investigate:\n",
    "\n",
    "1.) The breadth of the ornament offerings and relative eccentricity of ornament reselling creates pricing disparities among the three vendors. Barring liquidity dynamics and capital scarcity concerns, we believe that there would be a \"significant\" opportunity for arbitraging ornaments between the three vendors.\n",
    "\n",
    "2.) Holding any basket of ornaments from a given year as an investment (such as you would a piece of art), on average, would perform MUCH worse than holding the SPY ETF as an investment (in all cases, regardless of year). \n",
    "\n",
    "3.) There will be no clear \"reseller\" of choice if you were to sell your personal stash of ornaments to replenish their supply. In order to maximize profits when selling your personal stash, you would need to implement a three-vendor strategy."
   ]
  },
  {
   "cell_type": "markdown",
   "metadata": {},
   "source": [
    "## Below is an introduction to the dataset:"
   ]
  },
  {
   "cell_type": "markdown",
   "metadata": {},
   "source": [
    "##### List columns, print head(5), dataset shape, data types, check for null values"
   ]
  },
  {
   "cell_type": "markdown",
   "metadata": {},
   "source": [
    "##### Perform value count analysis for column groupings of interest to check for cleanliness"
   ]
  },
  {
   "cell_type": "markdown",
   "metadata": {},
   "source": [
    "## Preliminary Comparison"
   ]
  },
  {
   "cell_type": "markdown",
   "metadata": {},
   "source": []
  }
 ],
 "metadata": {
  "kernelspec": {
   "display_name": "Python 3",
   "language": "python",
   "name": "python3"
  },
  "language_info": {
   "codemirror_mode": {
    "name": "ipython",
    "version": 3
   },
   "file_extension": ".py",
   "mimetype": "text/x-python",
   "name": "python",
   "nbconvert_exporter": "python",
   "pygments_lexer": "ipython3",
   "version": "3.7.3"
  }
 },
 "nbformat": 4,
 "nbformat_minor": 2
}
